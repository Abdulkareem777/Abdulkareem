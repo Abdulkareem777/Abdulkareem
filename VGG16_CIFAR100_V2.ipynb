{
  "cells": [
    {
      "cell_type": "markdown",
      "metadata": {
        "id": "view-in-github",
        "colab_type": "text"
      },
      "source": [
        "<a href=\"https://colab.research.google.com/github/Abdulkareem777/Abdulkareem/blob/main/VGG16_CIFAR100_V2.ipynb\" target=\"_parent\"><img src=\"https://colab.research.google.com/assets/colab-badge.svg\" alt=\"Open In Colab\"/></a>"
      ]
    },
    {
      "metadata": {
        "trusted": true,
        "_uuid": "c53467d5b6fe10259c46d8be21fbfdfa90f58a8c",
        "id": "PizCsfQbhooe"
      },
      "cell_type": "code",
      "source": [
        "import keras\n",
        "import tensorflow as tf\n",
        "from tensorflow.keras.datasets import cifar100\n",
        "from tensorflow.keras.preprocessing.image import ImageDataGenerator\n",
        "from tensorflow.keras.models import Sequential\n",
        "from tensorflow.keras.layers import Dense, Dropout, Activation, Flatten\n",
        "from tensorflow.keras.layers import Conv2D, MaxPooling2D, BatchNormalization\n",
        "from tensorflow.keras import optimizers\n",
        "import numpy as np\n",
        "from tensorflow.keras.layers import Lambda\n",
        "from keras import backend as K\n",
        "from keras import regularizers\n",
        "import matplotlib.pyplot as plt"
      ],
      "execution_count": 2,
      "outputs": []
    },
    {
      "metadata": {
        "trusted": true,
        "_uuid": "67c12c7f1fd18cfc6fa12eba36991cff6510219d",
        "id": "2-II5z39hoof"
      },
      "cell_type": "code",
      "source": [
        "train=True\n",
        "num_classes = 100\n",
        "weight_decay = 0.0005\n",
        "x_shape = [32,32,3]"
      ],
      "execution_count": 3,
      "outputs": []
    },
    {
      "metadata": {
        "trusted": true,
        "_uuid": "cd699e114c7b2c3d9d37cd5cfea1c7a2573beb70",
        "colab": {
          "base_uri": "https://localhost:8080/"
        },
        "id": "9hYBMQY5hoof",
        "outputId": "a926ba25-b371-4b0c-94ef-233384fda53b"
      },
      "cell_type": "code",
      "source": [
        "model = Sequential()\n",
        "weight_decay = weight_decay\n",
        "\n",
        "model.add(Conv2D(64, (3, 3), padding='same',\n",
        "                 input_shape=x_shape,kernel_regularizer=regularizers.l2(weight_decay)))\n",
        "model.add(Activation('relu'))\n",
        "model.add(BatchNormalization())\n",
        "model.add(Dropout(0.3))\n",
        "\n",
        "model.add(Conv2D(64, (3, 3), padding='same',kernel_regularizer=regularizers.l2(weight_decay)))\n",
        "model.add(Activation('relu'))\n",
        "model.add(BatchNormalization())\n",
        "\n",
        "model.add(MaxPooling2D(pool_size=(2, 2)))\n",
        "\n",
        "model.add(Conv2D(128, (3, 3), padding='same',kernel_regularizer=regularizers.l2(weight_decay)))\n",
        "model.add(Activation('relu'))\n",
        "model.add(BatchNormalization())\n",
        "model.add(Dropout(0.4))\n",
        "\n",
        "model.add(Conv2D(128, (3, 3), padding='same',kernel_regularizer=regularizers.l2(weight_decay)))\n",
        "model.add(Activation('relu'))\n",
        "model.add(BatchNormalization())\n",
        "\n",
        "model.add(MaxPooling2D(pool_size=(2, 2)))\n",
        "\n",
        "model.add(Conv2D(256, (3, 3), padding='same',kernel_regularizer=regularizers.l2(weight_decay)))\n",
        "model.add(Activation('relu'))\n",
        "model.add(BatchNormalization())\n",
        "model.add(Dropout(0.4))\n",
        "\n",
        "model.add(Conv2D(256, (3, 3), padding='same',kernel_regularizer=regularizers.l2(weight_decay)))\n",
        "model.add(Activation('relu'))\n",
        "model.add(BatchNormalization())\n",
        "model.add(Dropout(0.4))\n",
        "\n",
        "model.add(Conv2D(256, (3, 3), padding='same',kernel_regularizer=regularizers.l2(weight_decay)))\n",
        "model.add(Activation('relu'))\n",
        "model.add(BatchNormalization())\n",
        "\n",
        "model.add(MaxPooling2D(pool_size=(2, 2)))\n",
        "\n",
        "\n",
        "model.add(Conv2D(512, (3, 3), padding='same',kernel_regularizer=regularizers.l2(weight_decay)))\n",
        "model.add(Activation('relu'))\n",
        "model.add(BatchNormalization())\n",
        "model.add(Dropout(0.4))\n",
        "\n",
        "model.add(Conv2D(512, (3, 3), padding='same',kernel_regularizer=regularizers.l2(weight_decay)))\n",
        "model.add(Activation('relu'))\n",
        "model.add(BatchNormalization())\n",
        "model.add(Dropout(0.4))\n",
        "\n",
        "model.add(Conv2D(512, (3, 3), padding='same',kernel_regularizer=regularizers.l2(weight_decay)))\n",
        "model.add(Activation('relu'))\n",
        "model.add(BatchNormalization())\n",
        "\n",
        "model.add(MaxPooling2D(pool_size=(2, 2)))\n",
        "\n",
        "\n",
        "model.add(Conv2D(512, (3, 3), padding='same',kernel_regularizer=regularizers.l2(weight_decay)))\n",
        "model.add(Activation('relu'))\n",
        "model.add(BatchNormalization())\n",
        "model.add(Dropout(0.4))\n",
        "\n",
        "model.add(Conv2D(512, (3, 3), padding='same',kernel_regularizer=regularizers.l2(weight_decay)))\n",
        "model.add(Activation('relu'))\n",
        "model.add(BatchNormalization())\n",
        "model.add(Dropout(0.4))\n",
        "\n",
        "model.add(Conv2D(512, (3, 3), padding='same',kernel_regularizer=regularizers.l2(weight_decay)))\n",
        "model.add(Activation('relu'))\n",
        "model.add(BatchNormalization())\n",
        "\n",
        "model.add(MaxPooling2D(pool_size=(2, 2)))\n",
        "model.add(Dropout(0.5))\n",
        "\n",
        "model.add(Flatten())\n",
        "model.add(Dense(512,kernel_regularizer=regularizers.l2(weight_decay)))\n",
        "model.add(Activation('relu'))\n",
        "model.add(BatchNormalization())\n",
        "\n",
        "model.add(Dropout(0.5))\n",
        "model.add(Dense(num_classes))\n",
        "model.add(Activation('softmax'))"
      ],
      "execution_count": 4,
      "outputs": [
        {
          "output_type": "stream",
          "name": "stderr",
          "text": [
            "/usr/local/lib/python3.10/dist-packages/keras/src/layers/convolutional/base_conv.py:107: UserWarning: Do not pass an `input_shape`/`input_dim` argument to a layer. When using Sequential models, prefer using an `Input(shape)` object as the first layer in the model instead.\n",
            "  super().__init__(activity_regularizer=activity_regularizer, **kwargs)\n"
          ]
        }
      ]
    },
    {
      "metadata": {
        "trusted": true,
        "_uuid": "47ec3feac4866787cb1596db81b7f023dd58d003",
        "id": "JWht3NXnhoog"
      },
      "cell_type": "code",
      "source": [
        "def normalize(X_train,X_test):\n",
        "    #this function normalize inputs for zero mean and unit variance\n",
        "    # it is used when training a model.\n",
        "    # Input: training set and test set\n",
        "    # Output: normalized training set and test set according to the trianing set statistics.\n",
        "    mean = np.mean(X_train,axis=(0,1,2,3))\n",
        "    std = np.std(X_train, axis=(0, 1, 2, 3))\n",
        "    print(mean)\n",
        "    print(std)\n",
        "    X_train = (X_train-mean)/(std+1e-7)\n",
        "    X_test = (X_test-mean)/(std+1e-7)\n",
        "    return X_train, X_test\n",
        "\n",
        "def normalize_production(x):\n",
        "    #this function is used to normalize instances in production according to saved training set statistics\n",
        "    # Input: X - a training set\n",
        "    # Output X - a normalized training set according to normalization constants.\n",
        "\n",
        "    #these values produced during first training and are general for the standard cifar10 training set normalization\n",
        "    mean = 121.936\n",
        "    std = 68.389\n",
        "    return (x-mean)/(std+1e-7)"
      ],
      "execution_count": 5,
      "outputs": []
    },
    {
      "metadata": {
        "trusted": true,
        "_uuid": "f6defd800202f7f1ed59720615b594440a2722bf",
        "id": "3ioZNqqEhoog"
      },
      "cell_type": "code",
      "source": [
        "def predict(x,normalize=True,batch_size=50):\n",
        "    if normalize:\n",
        "        x = normalize_production(x)\n",
        "    return model.predict(x,batch_size)"
      ],
      "execution_count": 6,
      "outputs": []
    },
    {
      "metadata": {
        "trusted": true,
        "_uuid": "304afba83c43e75f22b5167cb571dfe5c27b3760",
        "colab": {
          "base_uri": "https://localhost:8080/"
        },
        "id": "08Ch4Fychooh",
        "outputId": "7c1ac7c9-b37b-4801-9df7-fc0d3ddab036"
      },
      "cell_type": "code",
      "source": [
        "# The data, shuffled and split between train and test sets:\n",
        "(x_train, y_train), (x_test, y_test) = cifar100.load_data()\n",
        "x_train = x_train.astype('float32')\n",
        "x_test = x_test.astype('float32')\n",
        "x_train, x_test = normalize(x_train, x_test)\n",
        "\n",
        "y_train = keras.utils.to_categorical(y_train, num_classes)\n",
        "y_test = keras.utils.to_categorical(y_test, num_classes)"
      ],
      "execution_count": 7,
      "outputs": [
        {
          "output_type": "stream",
          "name": "stdout",
          "text": [
            "Downloading data from https://www.cs.toronto.edu/~kriz/cifar-100-python.tar.gz\n",
            "\u001b[1m169001437/169001437\u001b[0m \u001b[32m━━━━━━━━━━━━━━━━━━━━\u001b[0m\u001b[37m\u001b[0m \u001b[1m13s\u001b[0m 0us/step\n",
            "121.93584\n",
            "68.38902\n"
          ]
        }
      ]
    },
    {
      "metadata": {
        "trusted": true,
        "_uuid": "57fd9613cc277f5866b1503e493f40f712f59f52",
        "colab": {
          "base_uri": "https://localhost:8080/",
          "height": 1000
        },
        "id": "v4e6Ywb0hooh",
        "outputId": "0492c5ef-4a42-4af4-d3a5-bd5af0a43d50"
      },
      "cell_type": "code",
      "source": [
        "import warnings\n",
        "warnings.filterwarnings('ignore', message='Your `PyDataset` class should call `super().__init__')\n",
        "\n",
        "batch_size = 128\n",
        "maxepoches = 100\n",
        "learning_rate = 0.1\n",
        "lr_decay = 1e-6\n",
        "lr_drop = 20\n",
        "\n",
        "def lr_scheduler(epoch):\n",
        "    return learning_rate * (0.5 ** (epoch // lr_drop))\n",
        "reduce_lr = keras.callbacks.LearningRateScheduler(lr_scheduler)\n",
        "\n",
        "\n",
        "#data augmentation\n",
        "datagen = ImageDataGenerator(\n",
        "    featurewise_center=False,  # set input mean to 0 over the dataset\n",
        "    samplewise_center=False,  # set each sample mean to 0\n",
        "    featurewise_std_normalization=False,  # divide inputs by std of the dataset\n",
        "    samplewise_std_normalization=False,  # divide each input by its std\n",
        "    zca_whitening=False,  # apply ZCA whitening\n",
        "    rotation_range=15,  # randomly rotate images in the range (degrees, 0 to 180)\n",
        "    width_shift_range=0.1,  # randomly shift images horizontally (fraction of total width)\n",
        "    height_shift_range=0.1,  # randomly shift images vertically (fraction of total height)\n",
        "    horizontal_flip=True,  # randomly flip images\n",
        "    vertical_flip=False)  # randomly flip images\n",
        "# (std, mean, and principal components if ZCA whitening is applied).\n",
        "datagen.fit(x_train)\n",
        "\n",
        "\n",
        "\n",
        "#optimization details\n",
        "sgd = optimizers.SGD(learning_rate=learning_rate, decay=lr_decay, momentum=0.9, nesterov=True)\n",
        "model.compile(loss='categorical_crossentropy', optimizer=sgd,metrics=['accuracy'])\n",
        "\n",
        "\n",
        "# training process in a for loop with learning rate drop every 25 epoches.\n",
        "\n",
        "hist = model.fit(datagen.flow(x_train, y_train,\n",
        "                                 batch_size=batch_size),\n",
        "                    steps_per_epoch=x_train.shape[0] // batch_size,\n",
        "                    epochs=maxepoches,\n",
        "                    validation_data=(x_test, y_test),callbacks=[reduce_lr],verbose=2)\n"
      ],
      "execution_count": 10,
      "outputs": [
        {
          "output_type": "stream",
          "name": "stdout",
          "text": [
            "Epoch 1/100\n"
          ]
        },
        {
          "output_type": "stream",
          "name": "stderr",
          "text": [
            "/usr/local/lib/python3.10/dist-packages/keras/src/optimizers/base_optimizer.py:33: UserWarning: Argument `decay` is no longer supported and will be ignored.\n",
            "  warnings.warn(\n",
            "/usr/local/lib/python3.10/dist-packages/keras/src/trainers/data_adapters/py_dataset_adapter.py:122: UserWarning: Your `PyDataset` class should call `super().__init__(**kwargs)` in its constructor. `**kwargs` can include `workers`, `use_multiprocessing`, `max_queue_size`. Do not pass these arguments to `fit()`, as they will be ignored.\n",
            "  self._warn_if_super_not_called()\n"
          ]
        },
        {
          "output_type": "stream",
          "name": "stdout",
          "text": [
            "390/390 - 61s - 157ms/step - accuracy: 0.0427 - loss: 12.0659 - val_accuracy: 0.0119 - val_loss: 10.3426 - learning_rate: 0.1000\n",
            "Epoch 2/100\n"
          ]
        },
        {
          "output_type": "stream",
          "name": "stderr",
          "text": [
            "/usr/lib/python3.10/contextlib.py:153: UserWarning: Your input ran out of data; interrupting training. Make sure that your dataset or generator can generate at least `steps_per_epoch * epochs` batches. You may need to use the `.repeat()` function when building your dataset.\n",
            "  self.gen.throw(typ, value, traceback)\n"
          ]
        },
        {
          "output_type": "stream",
          "name": "stdout",
          "text": [
            "390/390 - 1s - 3ms/step - accuracy: 0.0703 - loss: 9.2476 - val_accuracy: 0.0115 - val_loss: 10.3209 - learning_rate: 0.1000\n",
            "Epoch 3/100\n",
            "390/390 - 31s - 78ms/step - accuracy: 0.0563 - loss: 7.7439 - val_accuracy: 0.0209 - val_loss: 7.0765 - learning_rate: 0.1000\n",
            "Epoch 4/100\n",
            "390/390 - 1s - 3ms/step - accuracy: 0.0859 - loss: 6.3700 - val_accuracy: 0.0207 - val_loss: 7.0679 - learning_rate: 0.1000\n",
            "Epoch 5/100\n",
            "390/390 - 31s - 78ms/step - accuracy: 0.0749 - loss: 5.7498 - val_accuracy: 0.0347 - val_loss: 5.6967 - learning_rate: 0.1000\n",
            "Epoch 6/100\n",
            "390/390 - 1s - 3ms/step - accuracy: 0.0938 - loss: 5.4647 - val_accuracy: 0.0336 - val_loss: 5.7110 - learning_rate: 0.1000\n",
            "Epoch 7/100\n",
            "390/390 - 31s - 79ms/step - accuracy: 0.0955 - loss: 4.7861 - val_accuracy: 0.0919 - val_loss: 4.6154 - learning_rate: 0.1000\n",
            "Epoch 8/100\n",
            "390/390 - 1s - 3ms/step - accuracy: 0.1406 - loss: 4.5086 - val_accuracy: 0.0930 - val_loss: 4.5885 - learning_rate: 0.1000\n",
            "Epoch 9/100\n",
            "390/390 - 31s - 79ms/step - accuracy: 0.1156 - loss: 4.3182 - val_accuracy: 0.1223 - val_loss: 4.2506 - learning_rate: 0.1000\n",
            "Epoch 10/100\n",
            "390/390 - 1s - 3ms/step - accuracy: 0.1016 - loss: 4.4166 - val_accuracy: 0.1157 - val_loss: 4.3115 - learning_rate: 0.1000\n",
            "Epoch 11/100\n",
            "390/390 - 30s - 78ms/step - accuracy: 0.1371 - loss: 4.1034 - val_accuracy: 0.1236 - val_loss: 4.2620 - learning_rate: 0.1000\n",
            "Epoch 12/100\n",
            "390/390 - 1s - 3ms/step - accuracy: 0.1328 - loss: 4.0982 - val_accuracy: 0.1325 - val_loss: 4.2355 - learning_rate: 0.1000\n",
            "Epoch 13/100\n",
            "390/390 - 30s - 78ms/step - accuracy: 0.1622 - loss: 3.9390 - val_accuracy: 0.1622 - val_loss: 4.0159 - learning_rate: 0.1000\n",
            "Epoch 14/100\n",
            "390/390 - 1s - 3ms/step - accuracy: 0.1719 - loss: 3.8449 - val_accuracy: 0.1463 - val_loss: 4.5216 - learning_rate: 0.1000\n",
            "Epoch 15/100\n",
            "390/390 - 30s - 78ms/step - accuracy: 0.1885 - loss: 3.8487 - val_accuracy: 0.2116 - val_loss: 3.7253 - learning_rate: 0.1000\n",
            "Epoch 16/100\n",
            "390/390 - 1s - 3ms/step - accuracy: 0.1484 - loss: 4.0044 - val_accuracy: 0.2053 - val_loss: 3.7412 - learning_rate: 0.1000\n",
            "Epoch 17/100\n",
            "390/390 - 30s - 77ms/step - accuracy: 0.2087 - loss: 3.7836 - val_accuracy: 0.2223 - val_loss: 3.8688 - learning_rate: 0.1000\n",
            "Epoch 18/100\n",
            "390/390 - 1s - 3ms/step - accuracy: 0.2422 - loss: 3.8536 - val_accuracy: 0.2168 - val_loss: 3.9361 - learning_rate: 0.1000\n",
            "Epoch 19/100\n",
            "390/390 - 30s - 78ms/step - accuracy: 0.2324 - loss: 3.7529 - val_accuracy: 0.2474 - val_loss: 3.7223 - learning_rate: 0.1000\n",
            "Epoch 20/100\n",
            "390/390 - 1s - 3ms/step - accuracy: 0.2031 - loss: 3.7412 - val_accuracy: 0.2475 - val_loss: 3.7471 - learning_rate: 0.1000\n",
            "Epoch 21/100\n",
            "390/390 - 31s - 79ms/step - accuracy: 0.2887 - loss: 3.4610 - val_accuracy: 0.3054 - val_loss: 3.4016 - learning_rate: 0.0500\n",
            "Epoch 22/100\n",
            "390/390 - 1s - 3ms/step - accuracy: 0.2812 - loss: 3.4831 - val_accuracy: 0.3105 - val_loss: 3.3773 - learning_rate: 0.0500\n",
            "Epoch 23/100\n",
            "390/390 - 31s - 80ms/step - accuracy: 0.3072 - loss: 3.3420 - val_accuracy: 0.3172 - val_loss: 3.2840 - learning_rate: 0.0500\n",
            "Epoch 24/100\n",
            "390/390 - 1s - 3ms/step - accuracy: 0.2812 - loss: 3.2197 - val_accuracy: 0.3244 - val_loss: 3.2607 - learning_rate: 0.0500\n",
            "Epoch 25/100\n",
            "390/390 - 31s - 79ms/step - accuracy: 0.3167 - loss: 3.3100 - val_accuracy: 0.3494 - val_loss: 3.1753 - learning_rate: 0.0500\n",
            "Epoch 26/100\n",
            "390/390 - 1s - 3ms/step - accuracy: 0.3594 - loss: 3.0445 - val_accuracy: 0.3451 - val_loss: 3.2038 - learning_rate: 0.0500\n",
            "Epoch 27/100\n",
            "390/390 - 30s - 76ms/step - accuracy: 0.3299 - loss: 3.2750 - val_accuracy: 0.3134 - val_loss: 3.4847 - learning_rate: 0.0500\n",
            "Epoch 28/100\n",
            "390/390 - 1s - 3ms/step - accuracy: 0.3125 - loss: 3.3268 - val_accuracy: 0.3221 - val_loss: 3.4558 - learning_rate: 0.0500\n",
            "Epoch 29/100\n",
            "390/390 - 31s - 79ms/step - accuracy: 0.3434 - loss: 3.2701 - val_accuracy: 0.3433 - val_loss: 3.4028 - learning_rate: 0.0500\n",
            "Epoch 30/100\n",
            "390/390 - 1s - 3ms/step - accuracy: 0.4688 - loss: 2.9486 - val_accuracy: 0.3422 - val_loss: 3.4187 - learning_rate: 0.0500\n",
            "Epoch 31/100\n",
            "390/390 - 31s - 78ms/step - accuracy: 0.3500 - loss: 3.2817 - val_accuracy: 0.3773 - val_loss: 3.1903 - learning_rate: 0.0500\n",
            "Epoch 32/100\n",
            "390/390 - 1s - 3ms/step - accuracy: 0.3828 - loss: 3.1184 - val_accuracy: 0.3755 - val_loss: 3.2044 - learning_rate: 0.0500\n",
            "Epoch 33/100\n",
            "390/390 - 30s - 78ms/step - accuracy: 0.3640 - loss: 3.2622 - val_accuracy: 0.3816 - val_loss: 3.2393 - learning_rate: 0.0500\n",
            "Epoch 34/100\n",
            "390/390 - 1s - 3ms/step - accuracy: 0.3594 - loss: 3.1882 - val_accuracy: 0.3880 - val_loss: 3.2342 - learning_rate: 0.0500\n",
            "Epoch 35/100\n",
            "390/390 - 31s - 78ms/step - accuracy: 0.3692 - loss: 3.2682 - val_accuracy: 0.4109 - val_loss: 3.1553 - learning_rate: 0.0500\n",
            "Epoch 36/100\n",
            "390/390 - 1s - 3ms/step - accuracy: 0.3203 - loss: 3.4588 - val_accuracy: 0.4078 - val_loss: 3.1417 - learning_rate: 0.0500\n",
            "Epoch 37/100\n",
            "390/390 - 30s - 77ms/step - accuracy: 0.3803 - loss: 3.2756 - val_accuracy: 0.4102 - val_loss: 3.1581 - learning_rate: 0.0500\n",
            "Epoch 38/100\n",
            "390/390 - 1s - 3ms/step - accuracy: 0.3359 - loss: 3.6106 - val_accuracy: 0.4085 - val_loss: 3.1669 - learning_rate: 0.0500\n",
            "Epoch 39/100\n",
            "390/390 - 30s - 78ms/step - accuracy: 0.3893 - loss: 3.2813 - val_accuracy: 0.4005 - val_loss: 3.3066 - learning_rate: 0.0500\n",
            "Epoch 40/100\n",
            "390/390 - 1s - 3ms/step - accuracy: 0.4219 - loss: 3.0720 - val_accuracy: 0.4002 - val_loss: 3.3057 - learning_rate: 0.0500\n",
            "Epoch 41/100\n",
            "390/390 - 31s - 79ms/step - accuracy: 0.4423 - loss: 3.0267 - val_accuracy: 0.4662 - val_loss: 2.9417 - learning_rate: 0.0250\n",
            "Epoch 42/100\n",
            "390/390 - 1s - 3ms/step - accuracy: 0.3828 - loss: 3.0882 - val_accuracy: 0.4687 - val_loss: 2.9306 - learning_rate: 0.0250\n",
            "Epoch 43/100\n",
            "390/390 - 30s - 78ms/step - accuracy: 0.4593 - loss: 2.9100 - val_accuracy: 0.4522 - val_loss: 2.9842 - learning_rate: 0.0250\n",
            "Epoch 44/100\n",
            "390/390 - 1s - 3ms/step - accuracy: 0.5000 - loss: 2.9840 - val_accuracy: 0.4460 - val_loss: 3.0132 - learning_rate: 0.0250\n",
            "Epoch 45/100\n",
            "390/390 - 30s - 77ms/step - accuracy: 0.4618 - loss: 2.8669 - val_accuracy: 0.4956 - val_loss: 2.7508 - learning_rate: 0.0250\n",
            "Epoch 46/100\n",
            "390/390 - 1s - 3ms/step - accuracy: 0.4688 - loss: 2.8831 - val_accuracy: 0.4935 - val_loss: 2.7530 - learning_rate: 0.0250\n",
            "Epoch 47/100\n",
            "390/390 - 31s - 79ms/step - accuracy: 0.4706 - loss: 2.8265 - val_accuracy: 0.4932 - val_loss: 2.7389 - learning_rate: 0.0250\n",
            "Epoch 48/100\n",
            "390/390 - 1s - 3ms/step - accuracy: 0.4375 - loss: 3.1133 - val_accuracy: 0.4968 - val_loss: 2.7256 - learning_rate: 0.0250\n",
            "Epoch 49/100\n",
            "390/390 - 30s - 78ms/step - accuracy: 0.4724 - loss: 2.8262 - val_accuracy: 0.4399 - val_loss: 3.1358 - learning_rate: 0.0250\n",
            "Epoch 50/100\n",
            "390/390 - 1s - 3ms/step - accuracy: 0.4375 - loss: 2.7100 - val_accuracy: 0.4470 - val_loss: 3.0883 - learning_rate: 0.0250\n",
            "Epoch 51/100\n",
            "390/390 - 30s - 77ms/step - accuracy: 0.4799 - loss: 2.8155 - val_accuracy: 0.4846 - val_loss: 2.8578 - learning_rate: 0.0250\n",
            "Epoch 52/100\n",
            "390/390 - 1s - 3ms/step - accuracy: 0.5000 - loss: 2.6950 - val_accuracy: 0.4824 - val_loss: 2.8745 - learning_rate: 0.0250\n",
            "Epoch 53/100\n",
            "390/390 - 30s - 78ms/step - accuracy: 0.4800 - loss: 2.8202 - val_accuracy: 0.4822 - val_loss: 2.8908 - learning_rate: 0.0250\n",
            "Epoch 54/100\n",
            "390/390 - 1s - 3ms/step - accuracy: 0.4375 - loss: 3.0602 - val_accuracy: 0.4845 - val_loss: 2.8815 - learning_rate: 0.0250\n",
            "Epoch 55/100\n",
            "390/390 - 30s - 78ms/step - accuracy: 0.4891 - loss: 2.8046 - val_accuracy: 0.4924 - val_loss: 2.8236 - learning_rate: 0.0250\n",
            "Epoch 56/100\n",
            "390/390 - 1s - 3ms/step - accuracy: 0.4062 - loss: 3.0969 - val_accuracy: 0.4952 - val_loss: 2.8140 - learning_rate: 0.0250\n",
            "Epoch 57/100\n",
            "390/390 - 30s - 78ms/step - accuracy: 0.4931 - loss: 2.8147 - val_accuracy: 0.4852 - val_loss: 2.9359 - learning_rate: 0.0250\n",
            "Epoch 58/100\n",
            "390/390 - 1s - 3ms/step - accuracy: 0.5000 - loss: 2.6726 - val_accuracy: 0.4883 - val_loss: 2.9320 - learning_rate: 0.0250\n",
            "Epoch 59/100\n",
            "390/390 - 31s - 78ms/step - accuracy: 0.4947 - loss: 2.8153 - val_accuracy: 0.5042 - val_loss: 2.7903 - learning_rate: 0.0250\n",
            "Epoch 60/100\n",
            "390/390 - 1s - 3ms/step - accuracy: 0.4141 - loss: 3.2901 - val_accuracy: 0.5091 - val_loss: 2.7685 - learning_rate: 0.0250\n",
            "Epoch 61/100\n",
            "390/390 - 30s - 78ms/step - accuracy: 0.5368 - loss: 2.6248 - val_accuracy: 0.5452 - val_loss: 2.6002 - learning_rate: 0.0125\n",
            "Epoch 62/100\n",
            "390/390 - 1s - 3ms/step - accuracy: 0.5234 - loss: 2.5073 - val_accuracy: 0.5429 - val_loss: 2.6169 - learning_rate: 0.0125\n",
            "Epoch 63/100\n",
            "390/390 - 30s - 78ms/step - accuracy: 0.5492 - loss: 2.5253 - val_accuracy: 0.5362 - val_loss: 2.6830 - learning_rate: 0.0125\n",
            "Epoch 64/100\n",
            "390/390 - 1s - 3ms/step - accuracy: 0.5312 - loss: 2.5416 - val_accuracy: 0.5373 - val_loss: 2.6792 - learning_rate: 0.0125\n",
            "Epoch 65/100\n",
            "390/390 - 30s - 78ms/step - accuracy: 0.5570 - loss: 2.4898 - val_accuracy: 0.5257 - val_loss: 2.7219 - learning_rate: 0.0125\n",
            "Epoch 66/100\n",
            "390/390 - 1s - 3ms/step - accuracy: 0.5078 - loss: 2.6221 - val_accuracy: 0.5302 - val_loss: 2.6997 - learning_rate: 0.0125\n",
            "Epoch 67/100\n",
            "390/390 - 30s - 78ms/step - accuracy: 0.5611 - loss: 2.4486 - val_accuracy: 0.5370 - val_loss: 2.6178 - learning_rate: 0.0125\n",
            "Epoch 68/100\n",
            "390/390 - 1s - 3ms/step - accuracy: 0.5078 - loss: 2.5772 - val_accuracy: 0.5396 - val_loss: 2.6018 - learning_rate: 0.0125\n",
            "Epoch 69/100\n",
            "390/390 - 30s - 78ms/step - accuracy: 0.5614 - loss: 2.4268 - val_accuracy: 0.5346 - val_loss: 2.6358 - learning_rate: 0.0125\n",
            "Epoch 70/100\n",
            "390/390 - 1s - 3ms/step - accuracy: 0.5312 - loss: 2.4919 - val_accuracy: 0.5334 - val_loss: 2.6393 - learning_rate: 0.0125\n",
            "Epoch 71/100\n",
            "390/390 - 30s - 76ms/step - accuracy: 0.5631 - loss: 2.4141 - val_accuracy: 0.5549 - val_loss: 2.5302 - learning_rate: 0.0125\n",
            "Epoch 72/100\n",
            "390/390 - 1s - 3ms/step - accuracy: 0.5938 - loss: 2.2576 - val_accuracy: 0.5546 - val_loss: 2.5337 - learning_rate: 0.0125\n",
            "Epoch 73/100\n",
            "390/390 - 32s - 81ms/step - accuracy: 0.5654 - loss: 2.4019 - val_accuracy: 0.5544 - val_loss: 2.5055 - learning_rate: 0.0125\n",
            "Epoch 74/100\n",
            "390/390 - 1s - 3ms/step - accuracy: 0.5391 - loss: 2.4585 - val_accuracy: 0.5588 - val_loss: 2.4880 - learning_rate: 0.0125\n",
            "Epoch 75/100\n",
            "390/390 - 31s - 78ms/step - accuracy: 0.5715 - loss: 2.3911 - val_accuracy: 0.5600 - val_loss: 2.4829 - learning_rate: 0.0125\n",
            "Epoch 76/100\n",
            "390/390 - 1s - 3ms/step - accuracy: 0.5625 - loss: 2.4736 - val_accuracy: 0.5600 - val_loss: 2.4862 - learning_rate: 0.0125\n",
            "Epoch 77/100\n",
            "390/390 - 31s - 79ms/step - accuracy: 0.5746 - loss: 2.3891 - val_accuracy: 0.5367 - val_loss: 2.6749 - learning_rate: 0.0125\n",
            "Epoch 78/100\n",
            "390/390 - 1s - 3ms/step - accuracy: 0.5547 - loss: 2.4488 - val_accuracy: 0.5324 - val_loss: 2.6936 - learning_rate: 0.0125\n",
            "Epoch 79/100\n",
            "390/390 - 30s - 77ms/step - accuracy: 0.5744 - loss: 2.3896 - val_accuracy: 0.5330 - val_loss: 2.6645 - learning_rate: 0.0125\n",
            "Epoch 80/100\n",
            "390/390 - 1s - 3ms/step - accuracy: 0.5312 - loss: 2.4631 - val_accuracy: 0.5338 - val_loss: 2.6676 - learning_rate: 0.0125\n",
            "Epoch 81/100\n",
            "390/390 - 30s - 78ms/step - accuracy: 0.6081 - loss: 2.2332 - val_accuracy: 0.6161 - val_loss: 2.2171 - learning_rate: 0.0063\n",
            "Epoch 82/100\n",
            "390/390 - 1s - 3ms/step - accuracy: 0.6094 - loss: 2.0887 - val_accuracy: 0.6159 - val_loss: 2.2178 - learning_rate: 0.0063\n",
            "Epoch 83/100\n",
            "390/390 - 30s - 77ms/step - accuracy: 0.6193 - loss: 2.1673 - val_accuracy: 0.5776 - val_loss: 2.4247 - learning_rate: 0.0063\n",
            "Epoch 84/100\n",
            "390/390 - 1s - 3ms/step - accuracy: 0.6797 - loss: 2.0754 - val_accuracy: 0.5754 - val_loss: 2.4272 - learning_rate: 0.0063\n",
            "Epoch 85/100\n",
            "390/390 - 30s - 77ms/step - accuracy: 0.6272 - loss: 2.1219 - val_accuracy: 0.5971 - val_loss: 2.3220 - learning_rate: 0.0063\n",
            "Epoch 86/100\n",
            "390/390 - 1s - 3ms/step - accuracy: 0.6406 - loss: 1.9585 - val_accuracy: 0.5986 - val_loss: 2.3199 - learning_rate: 0.0063\n",
            "Epoch 87/100\n",
            "390/390 - 30s - 78ms/step - accuracy: 0.6311 - loss: 2.0944 - val_accuracy: 0.6000 - val_loss: 2.2763 - learning_rate: 0.0063\n",
            "Epoch 88/100\n",
            "390/390 - 1s - 3ms/step - accuracy: 0.5859 - loss: 2.1834 - val_accuracy: 0.6001 - val_loss: 2.2810 - learning_rate: 0.0063\n",
            "Epoch 89/100\n",
            "390/390 - 31s - 79ms/step - accuracy: 0.6328 - loss: 2.0795 - val_accuracy: 0.5961 - val_loss: 2.3243 - learning_rate: 0.0063\n",
            "Epoch 90/100\n",
            "390/390 - 1s - 3ms/step - accuracy: 0.5781 - loss: 2.2914 - val_accuracy: 0.5946 - val_loss: 2.3396 - learning_rate: 0.0063\n",
            "Epoch 91/100\n",
            "390/390 - 30s - 78ms/step - accuracy: 0.6352 - loss: 2.0622 - val_accuracy: 0.5986 - val_loss: 2.3235 - learning_rate: 0.0063\n",
            "Epoch 92/100\n",
            "390/390 - 1s - 3ms/step - accuracy: 0.6172 - loss: 2.0292 - val_accuracy: 0.5976 - val_loss: 2.3247 - learning_rate: 0.0063\n",
            "Epoch 93/100\n",
            "390/390 - 30s - 77ms/step - accuracy: 0.6369 - loss: 2.0450 - val_accuracy: 0.5769 - val_loss: 2.4312 - learning_rate: 0.0063\n",
            "Epoch 94/100\n",
            "390/390 - 1s - 3ms/step - accuracy: 0.6484 - loss: 2.0448 - val_accuracy: 0.5735 - val_loss: 2.4406 - learning_rate: 0.0063\n",
            "Epoch 95/100\n",
            "390/390 - 30s - 77ms/step - accuracy: 0.6397 - loss: 2.0247 - val_accuracy: 0.5924 - val_loss: 2.3235 - learning_rate: 0.0063\n",
            "Epoch 96/100\n",
            "390/390 - 1s - 3ms/step - accuracy: 0.6484 - loss: 1.9070 - val_accuracy: 0.5962 - val_loss: 2.2977 - learning_rate: 0.0063\n",
            "Epoch 97/100\n",
            "390/390 - 30s - 78ms/step - accuracy: 0.6432 - loss: 2.0091 - val_accuracy: 0.6015 - val_loss: 2.2759 - learning_rate: 0.0063\n",
            "Epoch 98/100\n",
            "390/390 - 1s - 3ms/step - accuracy: 0.6625 - loss: 2.0274 - val_accuracy: 0.6014 - val_loss: 2.2841 - learning_rate: 0.0063\n",
            "Epoch 99/100\n",
            "390/390 - 30s - 77ms/step - accuracy: 0.6446 - loss: 2.0000 - val_accuracy: 0.5908 - val_loss: 2.3519 - learning_rate: 0.0063\n",
            "Epoch 100/100\n",
            "390/390 - 1s - 3ms/step - accuracy: 0.7109 - loss: 1.8322 - val_accuracy: 0.5899 - val_loss: 2.3550 - learning_rate: 0.0063\n"
          ]
        },
        {
          "output_type": "error",
          "ename": "ValueError",
          "evalue": "The filename must end in `.weights.h5`. Received: filepath=cifar100vgg.h5",
          "traceback": [
            "\u001b[0;31m---------------------------------------------------------------------------\u001b[0m",
            "\u001b[0;31mValueError\u001b[0m                                Traceback (most recent call last)",
            "\u001b[0;32m<ipython-input-10-24b342516985>\u001b[0m in \u001b[0;36m<cell line: 44>\u001b[0;34m()\u001b[0m\n\u001b[1;32m     42\u001b[0m                     \u001b[0mepochs\u001b[0m\u001b[0;34m=\u001b[0m\u001b[0mmaxepoches\u001b[0m\u001b[0;34m,\u001b[0m\u001b[0;34m\u001b[0m\u001b[0;34m\u001b[0m\u001b[0m\n\u001b[1;32m     43\u001b[0m                     validation_data=(x_test, y_test),callbacks=[reduce_lr],verbose=2)\n\u001b[0;32m---> 44\u001b[0;31m \u001b[0mmodel\u001b[0m\u001b[0;34m.\u001b[0m\u001b[0msave_weights\u001b[0m\u001b[0;34m(\u001b[0m\u001b[0;34m'cifar100vgg.h5'\u001b[0m\u001b[0;34m)\u001b[0m\u001b[0;34m\u001b[0m\u001b[0;34m\u001b[0m\u001b[0m\n\u001b[0m",
            "\u001b[0;32m/usr/local/lib/python3.10/dist-packages/keras/src/utils/traceback_utils.py\u001b[0m in \u001b[0;36merror_handler\u001b[0;34m(*args, **kwargs)\u001b[0m\n\u001b[1;32m    120\u001b[0m             \u001b[0;31m# To get the full stack trace, call:\u001b[0m\u001b[0;34m\u001b[0m\u001b[0;34m\u001b[0m\u001b[0m\n\u001b[1;32m    121\u001b[0m             \u001b[0;31m# `keras.config.disable_traceback_filtering()`\u001b[0m\u001b[0;34m\u001b[0m\u001b[0;34m\u001b[0m\u001b[0m\n\u001b[0;32m--> 122\u001b[0;31m             \u001b[0;32mraise\u001b[0m \u001b[0me\u001b[0m\u001b[0;34m.\u001b[0m\u001b[0mwith_traceback\u001b[0m\u001b[0;34m(\u001b[0m\u001b[0mfiltered_tb\u001b[0m\u001b[0;34m)\u001b[0m \u001b[0;32mfrom\u001b[0m \u001b[0;32mNone\u001b[0m\u001b[0;34m\u001b[0m\u001b[0;34m\u001b[0m\u001b[0m\n\u001b[0m\u001b[1;32m    123\u001b[0m         \u001b[0;32mfinally\u001b[0m\u001b[0;34m:\u001b[0m\u001b[0;34m\u001b[0m\u001b[0;34m\u001b[0m\u001b[0m\n\u001b[1;32m    124\u001b[0m             \u001b[0;32mdel\u001b[0m \u001b[0mfiltered_tb\u001b[0m\u001b[0;34m\u001b[0m\u001b[0;34m\u001b[0m\u001b[0m\n",
            "\u001b[0;32m/usr/local/lib/python3.10/dist-packages/keras/src/saving/saving_api.py\u001b[0m in \u001b[0;36msave_weights\u001b[0;34m(model, filepath, overwrite, **kwargs)\u001b[0m\n\u001b[1;32m    220\u001b[0m \u001b[0;32mdef\u001b[0m \u001b[0msave_weights\u001b[0m\u001b[0;34m(\u001b[0m\u001b[0mmodel\u001b[0m\u001b[0;34m,\u001b[0m \u001b[0mfilepath\u001b[0m\u001b[0;34m,\u001b[0m \u001b[0moverwrite\u001b[0m\u001b[0;34m=\u001b[0m\u001b[0;32mTrue\u001b[0m\u001b[0;34m,\u001b[0m \u001b[0;34m**\u001b[0m\u001b[0mkwargs\u001b[0m\u001b[0;34m)\u001b[0m\u001b[0;34m:\u001b[0m\u001b[0;34m\u001b[0m\u001b[0;34m\u001b[0m\u001b[0m\n\u001b[1;32m    221\u001b[0m     \u001b[0;32mif\u001b[0m \u001b[0;32mnot\u001b[0m \u001b[0mstr\u001b[0m\u001b[0;34m(\u001b[0m\u001b[0mfilepath\u001b[0m\u001b[0;34m)\u001b[0m\u001b[0;34m.\u001b[0m\u001b[0mendswith\u001b[0m\u001b[0;34m(\u001b[0m\u001b[0;34m\".weights.h5\"\u001b[0m\u001b[0;34m)\u001b[0m\u001b[0;34m:\u001b[0m\u001b[0;34m\u001b[0m\u001b[0;34m\u001b[0m\u001b[0m\n\u001b[0;32m--> 222\u001b[0;31m         raise ValueError(\n\u001b[0m\u001b[1;32m    223\u001b[0m             \u001b[0;34m\"The filename must end in `.weights.h5`. \"\u001b[0m\u001b[0;34m\u001b[0m\u001b[0;34m\u001b[0m\u001b[0m\n\u001b[1;32m    224\u001b[0m             \u001b[0;34mf\"Received: filepath={filepath}\"\u001b[0m\u001b[0;34m\u001b[0m\u001b[0;34m\u001b[0m\u001b[0m\n",
            "\u001b[0;31mValueError\u001b[0m: The filename must end in `.weights.h5`. Received: filepath=cifar100vgg.h5"
          ]
        }
      ]
    },
    {
      "cell_type": "code",
      "source": [
        "model.save_weights('cifar100vgg.weights.h5')"
      ],
      "metadata": {
        "id": "f2mGLwkXpT1S"
      },
      "execution_count": 11,
      "outputs": []
    },
    {
      "metadata": {
        "trusted": true,
        "_uuid": "a777104d31af4a218a395c7e2e72bb4d99f4dc60",
        "colab": {
          "base_uri": "https://localhost:8080/"
        },
        "id": "X4GVYk6khooi",
        "outputId": "40b3f874-d9f1-4ada-c2a4-587390632520"
      },
      "cell_type": "code",
      "source": [
        "(x_train, y_train), (x_test, y_test) = cifar100.load_data()\n",
        "x_train = x_train.astype('float32')\n",
        "x_test = x_test.astype('float32')\n",
        "\n",
        "y_train = keras.utils.to_categorical(y_train, num_classes)\n",
        "y_test = keras.utils.to_categorical(y_test, num_classes)\n",
        "\n",
        "scores = model.evaluate(x_test, y_test, verbose=0)\n",
        "print(\"Accuracy: %.2f%%\" % (scores[1]*100))"
      ],
      "execution_count": 12,
      "outputs": [
        {
          "output_type": "stream",
          "name": "stdout",
          "text": [
            "Accuracy: 1.30%\n"
          ]
        }
      ]
    },
    {
      "metadata": {
        "trusted": true,
        "_uuid": "cb7e5ed8a0b109fefc863addb37684797c374d75",
        "colab": {
          "base_uri": "https://localhost:8080/",
          "height": 904
        },
        "id": "RbPsX444hooi",
        "outputId": "6dcfb932-d90f-4b49-b909-5a67b9b50a84"
      },
      "cell_type": "code",
      "source": [
        "plt.plot(hist.history['loss'])\n",
        "plt.plot(hist.history['val_loss'])\n",
        "plt.legend(['train','test'])\n",
        "plt.title('loss')\n",
        "plt.savefig(\"loss7.png\",dpi=300,format=\"png\")\n",
        "plt.figure()\n",
        "plt.plot(hist.history['accuracy'])\n",
        "plt.plot(hist.history['val_accuracy'])\n",
        "plt.legend(['train','test'])\n",
        "plt.title('accuracy')\n",
        "plt.savefig(\"accuracy7.png\",dpi=300,format=\"png\")\n",
        "model_json = model.to_json()\n",
        "with open(\"model7.json\", \"w\") as json_file:\n",
        "    json_file.write(model_json)\n",
        "# serialize weights to HDF5\n",
        "model.save_weights(\"model7.weights.h5\")\n",
        "print(\"Saved model to disk\")"
      ],
      "execution_count": 16,
      "outputs": [
        {
          "output_type": "stream",
          "name": "stdout",
          "text": [
            "Saved model to disk\n"
          ]
        },
        {
          "output_type": "display_data",
          "data": {
            "text/plain": [
              "<Figure size 640x480 with 1 Axes>"
            ],
            "image/png": "[encoded data removed]"
          },
          "metadata": {}
        },
        {
          "output_type": "display_data",
          "data": {
            "text/plain": [
              "<Figure size 640x480 with 1 Axes>"
            ],
            "image/png": "[encoded data removed]"
          },
          "metadata": {}
        }
      ]
    }
  ],
  "metadata": {
    "kernelspec": {
      "display_name": "Python 3",
      "name": "python3"
    },
    "language_info": {
      "name": "python",
      "version": "3.6.6",
      "mimetype": "text/x-python",
      "codemirror_mode": {
        "name": "ipython",
        "version": 3
      },
      "pygments_lexer": "ipython3",
      "nbconvert_exporter": "python",
      "file_extension": ".py"
    },
    "colab": {
      "name": "VGG16-CIFAR100-V2",
      "provenance": [],
      "gpuType": "L4",
      "include_colab_link": true
    },
    "accelerator": "GPU"
  },
  "nbformat": 4,
  "nbformat_minor": 0
}